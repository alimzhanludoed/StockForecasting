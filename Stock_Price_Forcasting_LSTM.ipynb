{
  "nbformat": 4,
  "nbformat_minor": 0,
  "metadata": {
    "colab": {
      "provenance": []
    },
    "kernelspec": {
      "name": "python3",
      "display_name": "Python 3"
    },
    "language_info": {
      "name": "python"
    }
  },
  "cells": [
    {
      "cell_type": "code",
      "execution_count": null,
      "metadata": {
        "id": "Lkzn0VZU63nQ"
      },
      "outputs": [],
      "source": [
        "# Importing Libararies\n",
        "\n",
        "import math\n",
        "import pandas_datareader as web\n",
        "import numpy as np\n",
        "import pandas as pd\n",
        "from sklearn.preprocessing import MinMaxScaler\n",
        "from keras.models import Sequential\n",
        "from keras.layers import Dense, LSTM\n",
        "import matplotlib.pyplot as plt\n",
        "plt.style.use('fivethirtyeight')"
      ]
    },
    {
      "cell_type": "code",
      "source": [
        "#Fetching stoch data using yahoo finance\n",
        "\n",
        "import yfinance as yf\n",
        "df = yf.download(\"AAPL\", start=\"2019-01-01\")"
      ],
      "metadata": {
        "colab": {
          "base_uri": "https://localhost:8080/"
        },
        "id": "7lokO9QV8ZNq",
        "outputId": "db147df5-73d7-4fa4-d0ef-206129255fd9"
      },
      "execution_count": null,
      "outputs": [
        {
          "output_type": "stream",
          "name": "stdout",
          "text": [
            "\r[*********************100%***********************]  1 of 1 completed\n"
          ]
        }
      ]
    },
    {
      "cell_type": "code",
      "source": [
        "#Optional if you want to see graph of stock price\n",
        "'''\n",
        "plt.figure(figsize=(16,8))\n",
        "plt.title('Close Price History')\n",
        "plt.plot(df['Close'])\n",
        "plt.xlabel('Date', fontsize=18)\n",
        "plt.ylabel('Close Price USD ($)', fontsize=18)\n",
        "plt.show()\n",
        "'''"
      ],
      "metadata": {
        "colab": {
          "base_uri": "https://localhost:8080/",
          "height": 53
        },
        "id": "Ykm5lxWRBiwD",
        "outputId": "9649ebdf-1d1e-439e-b303-2a7dd7a06901"
      },
      "execution_count": null,
      "outputs": [
        {
          "output_type": "execute_result",
          "data": {
            "text/plain": [
              "\"\\nplt.figure(figsize=(16,8))\\nplt.title('Close Price History')\\nplt.plot(df['Close'])\\nplt.xlabel('Date', fontsize=18)\\nplt.ylabel('Close Price USD ($)', fontsize=18)\\nplt.show()\\n\""
            ],
            "application/vnd.google.colaboratory.intrinsic+json": {
              "type": "string"
            }
          },
          "metadata": {},
          "execution_count": 3
        }
      ]
    },
    {
      "cell_type": "code",
      "source": [
        "# we only care about closing price\n",
        "data = df.filter([\"Close\"])"
      ],
      "metadata": {
        "id": "8ESLBbiACnt3"
      },
      "execution_count": null,
      "outputs": []
    },
    {
      "cell_type": "code",
      "source": [
        "#Get all data in one array\n",
        "dataSet = data.values"
      ],
      "metadata": {
        "id": "oW4WGTIXz6w6"
      },
      "execution_count": null,
      "outputs": []
    },
    {
      "cell_type": "code",
      "source": [
        "# identify index on which we want to train our model\n",
        "training_data_len = math.ceil(len(dataSet) * 0.8)"
      ],
      "metadata": {
        "id": "cmSVUhT30Ldg"
      },
      "execution_count": null,
      "outputs": []
    },
    {
      "cell_type": "code",
      "source": [
        "scaler = MinMaxScaler(feature_range=(0,1))"
      ],
      "metadata": {
        "id": "90GTzk170bET"
      },
      "execution_count": null,
      "outputs": []
    },
    {
      "cell_type": "code",
      "source": [
        "# Transforming data, good practice\n",
        "scaled_data = scaler.fit_transform(dataSet)"
      ],
      "metadata": {
        "id": "FamUawve0rMo"
      },
      "execution_count": null,
      "outputs": []
    },
    {
      "cell_type": "code",
      "source": [
        "train_data = scaled_data[:training_data_len, :]"
      ],
      "metadata": {
        "id": "WlYzf6Qk1CZj"
      },
      "execution_count": null,
      "outputs": []
    },
    {
      "cell_type": "code",
      "source": [
        "x_train = []\n",
        "y_train = []\n",
        "\n",
        "for i in range(60, len(train_data)):\n",
        "  x_train.append(train_data[i-60:i, 0])\n",
        "  y_train.append(train_data[i, 0])\n",
        "  if i <= 60:\n",
        "    print(x_train)\n",
        "    print(y_train)"
      ],
      "metadata": {
        "colab": {
          "base_uri": "https://localhost:8080/"
        },
        "id": "mfbv-5fA5MGx",
        "outputId": "b6a2c459-b29a-447a-b2c9-f40dece444f6"
      },
      "execution_count": null,
      "outputs": [
        {
          "output_type": "stream",
          "name": "stdout",
          "text": [
            "[array([0.02596523, 0.        , 0.01001963, 0.0094749 , 0.01412984,\n",
            "       0.01835558, 0.01916443, 0.01667188, 0.01289183, 0.01795943,\n",
            "       0.0210462 , 0.02256483, 0.02414949, 0.01833908, 0.0193625 ,\n",
            "       0.01734866, 0.02570111, 0.02329113, 0.02061701, 0.03806474,\n",
            "       0.04002905, 0.04016111, 0.04796883, 0.05280532, 0.05290438,\n",
            "       0.04745712, 0.04658226, 0.04496458, 0.04737458, 0.04620259,\n",
            "       0.04722603, 0.04659876, 0.0474406 , 0.04925636, 0.0476552 ,\n",
            "       0.05080801, 0.05288786, 0.05305294, 0.05394429, 0.05110512,\n",
            "       0.05410937, 0.05556198, 0.05503375, 0.05336657, 0.05003218,\n",
            "       0.05070897, 0.06059654, 0.06391443, 0.06523498, 0.06856934,\n",
            "       0.07251447, 0.07565078, 0.07319126, 0.07588188, 0.0873211 ,\n",
            "       0.08065235, 0.07683928, 0.07362043, 0.07639359, 0.07680626])]\n",
            "[0.07883659018389935]\n"
          ]
        }
      ]
    },
    {
      "cell_type": "code",
      "source": [
        "x_train, y_train = np.array(x_train), np.array(y_train)"
      ],
      "metadata": {
        "id": "z_4ll_P46Px5"
      },
      "execution_count": null,
      "outputs": []
    },
    {
      "cell_type": "code",
      "source": [
        "x_train = np.reshape(x_train, (x_train.shape[0],x_train.shape[1],1))"
      ],
      "metadata": {
        "id": "W7OwW2ih6_vs"
      },
      "execution_count": null,
      "outputs": []
    },
    {
      "cell_type": "code",
      "source": [
        "# OUR MODEL\n",
        "\n",
        "model = Sequential()\n",
        "\n",
        "model.add(LSTM(50, return_sequences=True, input_shape=(x_train.shape[1], 1)))\n",
        "model.add(LSTM(50, return_sequences=True, input_shape=(x_train.shape[1], 1)))\n",
        "model.add(LSTM(50, return_sequences=False))\n",
        "model.add(Dense(25))\n",
        "model.add(Dense(1))"
      ],
      "metadata": {
        "id": "8H5mvZdb7Un8"
      },
      "execution_count": null,
      "outputs": []
    },
    {
      "cell_type": "code",
      "source": [
        "model.compile(optimizer='adam', loss='mean_squared_error')"
      ],
      "metadata": {
        "id": "DADAEts8785Q"
      },
      "execution_count": null,
      "outputs": []
    },
    {
      "cell_type": "code",
      "source": [
        "model.fit(x_train, y_train, batch_size=1, epochs=5)"
      ],
      "metadata": {
        "colab": {
          "base_uri": "https://localhost:8080/"
        },
        "id": "OLJ9cIKT9GrN",
        "outputId": "57b32bdf-529b-4c97-d10d-4f7ca8230544"
      },
      "execution_count": null,
      "outputs": [
        {
          "output_type": "stream",
          "name": "stdout",
          "text": [
            "Epoch 1/5\n",
            "842/842 [==============================] - 34s 36ms/step - loss: 0.0047\n",
            "Epoch 2/5\n",
            "842/842 [==============================] - 23s 27ms/step - loss: 0.0021\n",
            "Epoch 3/5\n",
            "842/842 [==============================] - 27s 32ms/step - loss: 0.0016\n",
            "Epoch 4/5\n",
            "842/842 [==============================] - 26s 30ms/step - loss: 0.0011\n",
            "Epoch 5/5\n",
            "842/842 [==============================] - 23s 28ms/step - loss: 9.9427e-04\n"
          ]
        },
        {
          "output_type": "execute_result",
          "data": {
            "text/plain": [
              "<keras.callbacks.History at 0x7f7d60569f60>"
            ]
          },
          "metadata": {},
          "execution_count": 15
        }
      ]
    },
    {
      "cell_type": "code",
      "source": [
        "#import joblib\n",
        "\n",
        "#joblib.dump(scaler, 'scalerForStocks.pkl')"
      ],
      "metadata": {
        "id": "RnqBb-KKmdd8"
      },
      "execution_count": null,
      "outputs": []
    },
    {
      "cell_type": "code",
      "source": [
        "test_data = scaled_data[training_data_len - 60:]\n",
        "# create data sets x_test and y_test\n",
        "x_test = []\n",
        "y_test = dataSet[training_data_len:, :]\n",
        "\n",
        "for i in range(60, len(test_data)):\n",
        "  x_test.append(test_data[i-60:i, 0])"
      ],
      "metadata": {
        "id": "FwJmVzmt9VkP"
      },
      "execution_count": null,
      "outputs": []
    },
    {
      "cell_type": "code",
      "source": [
        "# convert the data to a numpy array\n",
        "x_test = np.array(x_test)"
      ],
      "metadata": {
        "id": "UlnsLUZB9g5c"
      },
      "execution_count": null,
      "outputs": []
    },
    {
      "cell_type": "code",
      "source": [
        "x_test = np.reshape(x_test, (x_test.shape[0], x_test.shape[1], 1))"
      ],
      "metadata": {
        "id": "vXLN9cFo-kce"
      },
      "execution_count": null,
      "outputs": []
    },
    {
      "cell_type": "code",
      "source": [
        "predictions = model.predict(x_test)\n",
        "predictions = scaler.inverse_transform(predictions)"
      ],
      "metadata": {
        "colab": {
          "base_uri": "https://localhost:8080/"
        },
        "id": "1RCmEJ-L-1r8",
        "outputId": "ea1db219-53a6-47e7-855b-8474baaad459"
      },
      "execution_count": null,
      "outputs": [
        {
          "output_type": "stream",
          "name": "stdout",
          "text": [
            "8/8 [==============================] - 1s 14ms/step\n"
          ]
        }
      ]
    },
    {
      "cell_type": "code",
      "source": [
        "# get root mean squared error\n",
        "rmse = np.sqrt(np.mean(predictions-y_test) ** 2)\n",
        "rmse"
      ],
      "metadata": {
        "colab": {
          "base_uri": "https://localhost:8080/"
        },
        "id": "t5SWR1bqGjHs",
        "outputId": "52f68cf3-c050-4b89-b4a6-a1c28b8ce8ae"
      },
      "execution_count": null,
      "outputs": [
        {
          "output_type": "execute_result",
          "data": {
            "text/plain": [
              "6.509143507215712"
            ]
          },
          "metadata": {},
          "execution_count": 21
        }
      ]
    },
    {
      "cell_type": "code",
      "source": [
        "train = data[:training_data_len]\n",
        "valid = data[training_data_len:]\n",
        "valid['Predictions'] = predictions"
      ],
      "metadata": {
        "colab": {
          "base_uri": "https://localhost:8080/"
        },
        "id": "ane-hsiNHkN5",
        "outputId": "8c733a2b-8fbb-4539-f16d-69427281cff7"
      },
      "execution_count": null,
      "outputs": [
        {
          "output_type": "stream",
          "name": "stderr",
          "text": [
            "<ipython-input-22-8f78faa8f9ca>:3: SettingWithCopyWarning: \n",
            "A value is trying to be set on a copy of a slice from a DataFrame.\n",
            "Try using .loc[row_indexer,col_indexer] = value instead\n",
            "\n",
            "See the caveats in the documentation: https://pandas.pydata.org/pandas-docs/stable/user_guide/indexing.html#returning-a-view-versus-a-copy\n",
            "  valid['Predictions'] = predictions\n"
          ]
        }
      ]
    },
    {
      "cell_type": "code",
      "source": [
        "# visualize\n",
        "\n",
        "plt.figure(figsize=(16,8))\n",
        "\n",
        "plt.title('Model')\n",
        "plt.xlabel('Date', fontsize=18)\n",
        "plt.ylabel('Close price USD ($)', fontsize=18)\n",
        "plt.plot(train['Close'])\n",
        "plt.plot(valid[['Close', 'Predictions']])\n",
        "plt.legend(['Train', 'Actual', 'Predictions'], loc='lower right')\n",
        "plt.show()"
      ],
      "metadata": {
        "colab": {
          "base_uri": "https://localhost:8080/",
          "height": 733
        },
        "id": "zwHyQMG1IDiX",
        "outputId": "b98805f2-3cf5-4fb4-f159-c05ce03afc0c"
      },
      "execution_count": null,
      "outputs": [
        {
          "output_type": "display_data",
          "data": {
            "text/plain": [
              "<Figure size 1600x800 with 1 Axes>"
            ],
            "image/png": "[encoded data removed]"
          },
          "metadata": {}
        }
      ]
    },
    {
      "cell_type": "code",
      "source": [
        "# show the actual price and predicted prices\n",
        "\n",
        "valid"
      ],
      "metadata": {
        "colab": {
          "base_uri": "https://localhost:8080/",
          "height": 455
        },
        "id": "CAnjEWQhIujR",
        "outputId": "2ed92737-cad2-4523-ec29-0e8ff99b0869"
      },
      "execution_count": null,
      "outputs": [
        {
          "output_type": "execute_result",
          "data": {
            "text/plain": [
              "                 Close  Predictions\n",
              "Date                               \n",
              "2022-08-02  160.009995   166.764282\n",
              "2022-08-03  166.130005   167.640335\n",
              "2022-08-04  165.809998   169.405914\n",
              "2022-08-05  165.350006   171.033218\n",
              "2022-08-08  164.869995   171.834457\n",
              "...                ...          ...\n",
              "2023-06-16  184.919998   191.129776\n",
              "2023-06-20  185.009995   191.585190\n",
              "2023-06-21  183.960007   191.531433\n",
              "2023-06-22  187.000000   190.885361\n",
              "2023-06-23  186.679993   191.288376\n",
              "\n",
              "[225 rows x 2 columns]"
            ],
            "text/html": [
              "\n",
              "  <div id=\"df-1299e59c-dd72-4a0e-81c3-db9561d115ea\">\n",
              "    <div class=\"colab-df-container\">\n",
              "      <div>\n",
              "<style scoped>\n",
              "    .dataframe tbody tr th:only-of-type {\n",
              "        vertical-align: middle;\n",
              "    }\n",
              "\n",
              "    .dataframe tbody tr th {\n",
              "        vertical-align: top;\n",
              "    }\n",
              "\n",
              "    .dataframe thead th {\n",
              "        text-align: right;\n",
              "    }\n",
              "</style>\n",
              "<table border=\"1\" class=\"dataframe\">\n",
              "  <thead>\n",
              "    <tr style=\"text-align: right;\">\n",
              "      <th></th>\n",
              "      <th>Close</th>\n",
              "      <th>Predictions</th>\n",
              "    </tr>\n",
              "    <tr>\n",
              "      <th>Date</th>\n",
              "      <th></th>\n",
              "      <th></th>\n",
              "    </tr>\n",
              "  </thead>\n",
              "  <tbody>\n",
              "    <tr>\n",
              "      <th>2022-08-02</th>\n",
              "      <td>160.009995</td>\n",
              "      <td>166.764282</td>\n",
              "    </tr>\n",
              "    <tr>\n",
              "      <th>2022-08-03</th>\n",
              "      <td>166.130005</td>\n",
              "      <td>167.640335</td>\n",
              "    </tr>\n",
              "    <tr>\n",
              "      <th>2022-08-04</th>\n",
              "      <td>165.809998</td>\n",
              "      <td>169.405914</td>\n",
              "    </tr>\n",
              "    <tr>\n",
              "      <th>2022-08-05</th>\n",
              "      <td>165.350006</td>\n",
              "      <td>171.033218</td>\n",
              "    </tr>\n",
              "    <tr>\n",
              "      <th>2022-08-08</th>\n",
              "      <td>164.869995</td>\n",
              "      <td>171.834457</td>\n",
              "    </tr>\n",
              "    <tr>\n",
              "      <th>...</th>\n",
              "      <td>...</td>\n",
              "      <td>...</td>\n",
              "    </tr>\n",
              "    <tr>\n",
              "      <th>2023-06-16</th>\n",
              "      <td>184.919998</td>\n",
              "      <td>191.129776</td>\n",
              "    </tr>\n",
              "    <tr>\n",
              "      <th>2023-06-20</th>\n",
              "      <td>185.009995</td>\n",
              "      <td>191.585190</td>\n",
              "    </tr>\n",
              "    <tr>\n",
              "      <th>2023-06-21</th>\n",
              "      <td>183.960007</td>\n",
              "      <td>191.531433</td>\n",
              "    </tr>\n",
              "    <tr>\n",
              "      <th>2023-06-22</th>\n",
              "      <td>187.000000</td>\n",
              "      <td>190.885361</td>\n",
              "    </tr>\n",
              "    <tr>\n",
              "      <th>2023-06-23</th>\n",
              "      <td>186.679993</td>\n",
              "      <td>191.288376</td>\n",
              "    </tr>\n",
              "  </tbody>\n",
              "</table>\n",
              "<p>225 rows × 2 columns</p>\n",
              "</div>\n",
              "      <button class=\"colab-df-convert\" onclick=\"convertToInteractive('df-1299e59c-dd72-4a0e-81c3-db9561d115ea')\"\n",
              "              title=\"Convert this dataframe to an interactive table.\"\n",
              "              style=\"display:none;\">\n",
              "        \n",
              "  <svg xmlns=\"http://www.w3.org/2000/svg\" height=\"24px\"viewBox=\"0 0 24 24\"\n",
              "       width=\"24px\">\n",
              "    <path d=\"M0 0h24v24H0V0z\" fill=\"none\"/>\n",
              "    <path d=\"M18.56 5.44l.94 2.06.94-2.06 2.06-.94-2.06-.94-.94-2.06-.94 2.06-2.06.94zm-11 1L8.5 8.5l.94-2.06 2.06-.94-2.06-.94L8.5 2.5l-.94 2.06-2.06.94zm10 10l.94 2.06.94-2.06 2.06-.94-2.06-.94-.94-2.06-.94 2.06-2.06.94z\"/><path d=\"M17.41 7.96l-1.37-1.37c-.4-.4-.92-.59-1.43-.59-.52 0-1.04.2-1.43.59L10.3 9.45l-7.72 7.72c-.78.78-.78 2.05 0 2.83L4 21.41c.39.39.9.59 1.41.59.51 0 1.02-.2 1.41-.59l7.78-7.78 2.81-2.81c.8-.78.8-2.07 0-2.86zM5.41 20L4 18.59l7.72-7.72 1.47 1.35L5.41 20z\"/>\n",
              "  </svg>\n",
              "      </button>\n",
              "      \n",
              "  <style>\n",
              "    .colab-df-container {\n",
              "      display:flex;\n",
              "      flex-wrap:wrap;\n",
              "      gap: 12px;\n",
              "    }\n",
              "\n",
              "    .colab-df-convert {\n",
              "      background-color: #E8F0FE;\n",
              "      border: none;\n",
              "      border-radius: 50%;\n",
              "      cursor: pointer;\n",
              "      display: none;\n",
              "      fill: #1967D2;\n",
              "      height: 32px;\n",
              "      padding: 0 0 0 0;\n",
              "      width: 32px;\n",
              "    }\n",
              "\n",
              "    .colab-df-convert:hover {\n",
              "      background-color: #E2EBFA;\n",
              "      box-shadow: 0px 1px 2px rgba(60, 64, 67, 0.3), 0px 1px 3px 1px rgba(60, 64, 67, 0.15);\n",
              "      fill: #174EA6;\n",
              "    }\n",
              "\n",
              "    [theme=dark] .colab-df-convert {\n",
              "      background-color: #3B4455;\n",
              "      fill: #D2E3FC;\n",
              "    }\n",
              "\n",
              "    [theme=dark] .colab-df-convert:hover {\n",
              "      background-color: #434B5C;\n",
              "      box-shadow: 0px 1px 3px 1px rgba(0, 0, 0, 0.15);\n",
              "      filter: drop-shadow(0px 1px 2px rgba(0, 0, 0, 0.3));\n",
              "      fill: #FFFFFF;\n",
              "    }\n",
              "  </style>\n",
              "\n",
              "      <script>\n",
              "        const buttonEl =\n",
              "          document.querySelector('#df-1299e59c-dd72-4a0e-81c3-db9561d115ea button.colab-df-convert');\n",
              "        buttonEl.style.display =\n",
              "          google.colab.kernel.accessAllowed ? 'block' : 'none';\n",
              "\n",
              "        async function convertToInteractive(key) {\n",
              "          const element = document.querySelector('#df-1299e59c-dd72-4a0e-81c3-db9561d115ea');\n",
              "          const dataTable =\n",
              "            await google.colab.kernel.invokeFunction('convertToInteractive',\n",
              "                                                     [key], {});\n",
              "          if (!dataTable) return;\n",
              "\n",
              "          const docLinkHtml = 'Like what you see? Visit the ' +\n",
              "            '<a target=\"_blank\" href=https://colab.research.google.com/notebooks/data_table.ipynb>data table notebook</a>'\n",
              "            + ' to learn more about interactive tables.';\n",
              "          element.innerHTML = '';\n",
              "          dataTable['output_type'] = 'display_data';\n",
              "          await google.colab.output.renderOutput(dataTable, element);\n",
              "          const docLink = document.createElement('div');\n",
              "          docLink.innerHTML = docLinkHtml;\n",
              "          element.appendChild(docLink);\n",
              "        }\n",
              "      </script>\n",
              "    </div>\n",
              "  </div>\n",
              "  "
            ]
          },
          "metadata": {},
          "execution_count": 24
        }
      ]
    },
    {
      "cell_type": "code",
      "source": [
        "stock_name = \"AAPL\"\n",
        "\n",
        "stock_quote = yf.download(stock_name)\n",
        "\n",
        "new_df = stock_quote.filter(['Close'])\n",
        "\n",
        "last_60_days = new_df[-60:].values\n",
        "\n",
        "last_60_days_scaled = scaler.transform(last_60_days)\n",
        "\n",
        "X_test = []\n",
        "\n",
        "X_test.append(last_60_days_scaled)\n",
        "\n",
        "X_test = np.array(X_test)\n",
        "\n",
        "X_test = np.reshape(X_test, (X_test.shape[0], X_test.shape[1], 1))\n",
        "\n",
        "pred_price = model.predict(X_test)\n",
        "\n",
        "pred_price = scaler.inverse_transform(pred_price)\n",
        "\n",
        "print(type(pred_price[0][0]))"
      ],
      "metadata": {
        "colab": {
          "base_uri": "https://localhost:8080/"
        },
        "id": "76EfU79_JB_n",
        "outputId": "38b7bc56-15df-4e48-b0d7-ec02fe5233a4"
      },
      "execution_count": null,
      "outputs": [
        {
          "output_type": "stream",
          "name": "stdout",
          "text": [
            "[*********************100%***********************]  1 of 1 completed\n",
            "1/1 [==============================] - 0s 55ms/step\n",
            "<class 'numpy.float32'>\n"
          ]
        }
      ]
    },
    {
      "cell_type": "code",
      "source": [
        "stock_quote2 = yf.download(stock_name)\n",
        "print(stock_quote2['Close'][-1])"
      ],
      "metadata": {
        "colab": {
          "base_uri": "https://localhost:8080/"
        },
        "id": "uqLG8OCKs5LG",
        "outputId": "3ac3556d-71e6-4ea8-d572-10c5490780a0"
      },
      "execution_count": null,
      "outputs": [
        {
          "output_type": "stream",
          "name": "stdout",
          "text": [
            "\r[*********************100%***********************]  1 of 1 completed\n",
            "186.67999267578125\n"
          ]
        }
      ]
    },
    {
      "cell_type": "code",
      "source": [
        "from tensorflow.keras.models import load_model\n",
        "import numpy as np\n",
        "import joblib\n",
        "\n",
        "stock_quote = yf.download(\"AAPL\")\n",
        "new_df = stock_quote.filter(['Close'])\n",
        "\n",
        "forecast = []\n",
        "period = 100\n",
        "last_60_days = new_df[-60:].values\n",
        "last_60_days_scaled = scaler.transform(last_60_days)\n",
        "X_test = []\n",
        "X_test.append(last_60_days_scaled)\n",
        "X_test = np.array(X_test)\n",
        "X_test = np.reshape(X_test, (X_test.shape[0], X_test.shape[1], 1))\n",
        "\n",
        "for i in range(period):\n",
        "  current_pred = model.predict(X_test)\n",
        "  print(scaler.inverse_transform(current_pred))\n",
        "  forecast.append(current_pred)\n",
        "  X_test = np.append(X_test[:,1:,:], [current_pred], axis=1)\n",
        "\n",
        "pred_price = scaler.inverse_transform(pred_price)\n",
        "print(pred_price)\n",
        "\n",
        "def return_predictions(model, scaler, stock_name):\n",
        "  try:\n",
        "    stock_quote = yf.download(stock_name)\n",
        "    new_df = stock_quote.filter(['Close'])\n",
        "    last_60_days = new_df[-60:].values\n",
        "    last_60_days_scaled = scaler.transform(last_60_days)\n",
        "    X_test = []\n",
        "    X_test.append(last_60_days_scaled)\n",
        "    X_test = np.array(X_test)\n",
        "    X_test = np.reshape(X_test, (X_test.shape[0], X_test.shape[1], 1))\n",
        "    pred_price = model.predict(X_test)\n",
        "    pred_price = scaler.inverse_transform(pred_price)\n",
        "    print(pred_price)\n",
        "    return pred_price\n",
        "  except:\n",
        "    return -1"
      ],
      "metadata": {
        "id": "HOYHnBWxuOBU",
        "colab": {
          "base_uri": "https://localhost:8080/"
        },
        "outputId": "a0094c04-9a95-4fd5-e848-39af3d2d0bc1"
      },
      "execution_count": null,
      "outputs": [
        {
          "output_type": "stream",
          "name": "stdout",
          "text": [
            "[*********************100%***********************]  1 of 1 completed\n",
            "1/1 [==============================] - 0s 18ms/step\n",
            "[[191.94325]]\n",
            "1/1 [==============================] - 0s 19ms/step\n",
            "[[194.35434]]\n",
            "1/1 [==============================] - 0s 20ms/step\n",
            "[[197.60683]]\n",
            "1/1 [==============================] - 0s 26ms/step\n",
            "[[201.1887]]\n",
            "1/1 [==============================] - 0s 25ms/step\n",
            "[[204.85825]]\n",
            "1/1 [==============================] - 0s 26ms/step\n",
            "[[208.47592]]\n",
            "1/1 [==============================] - 0s 21ms/step\n",
            "[[211.93669]]\n",
            "1/1 [==============================] - 0s 24ms/step\n",
            "[[215.15532]]\n",
            "1/1 [==============================] - 0s 22ms/step\n",
            "[[218.06807]]\n",
            "1/1 [==============================] - 0s 19ms/step\n",
            "[[220.63515]]\n",
            "1/1 [==============================] - 0s 19ms/step\n",
            "[[222.84218]]\n",
            "1/1 [==============================] - 0s 23ms/step\n",
            "[[224.69836]]\n",
            "1/1 [==============================] - 0s 41ms/step\n",
            "[[226.23323]]\n",
            "1/1 [==============================] - 0s 80ms/step\n",
            "[[227.49173]]\n",
            "1/1 [==============================] - 0s 55ms/step\n",
            "[[228.52838]]\n",
            "1/1 [==============================] - 0s 24ms/step\n",
            "[[229.40166]]\n",
            "1/1 [==============================] - 0s 35ms/step\n",
            "[[230.16856]]\n",
            "1/1 [==============================] - 0s 19ms/step\n",
            "[[230.88031]]\n",
            "1/1 [==============================] - 0s 29ms/step\n",
            "[[231.57927]]\n",
            "1/1 [==============================] - 0s 20ms/step\n",
            "[[232.29712]]\n",
            "1/1 [==============================] - 0s 18ms/step\n",
            "[[233.05418]]\n",
            "1/1 [==============================] - 0s 29ms/step\n",
            "[[233.8599]]\n",
            "1/1 [==============================] - 0s 37ms/step\n",
            "[[234.71413]]\n",
            "1/1 [==============================] - 0s 34ms/step\n",
            "[[235.60876]]\n",
            "1/1 [==============================] - 0s 39ms/step\n",
            "[[236.53001]]\n",
            "1/1 [==============================] - 0s 29ms/step\n",
            "[[237.46028]]\n",
            "1/1 [==============================] - 0s 33ms/step\n",
            "[[238.38077]]\n",
            "1/1 [==============================] - 0s 68ms/step\n",
            "[[239.27289]]\n",
            "1/1 [==============================] - 0s 120ms/step\n",
            "[[240.1203]]\n",
            "1/1 [==============================] - 0s 43ms/step\n",
            "[[240.90982]]\n",
            "1/1 [==============================] - 0s 62ms/step\n",
            "[[241.6323]]\n",
            "1/1 [==============================] - 0s 46ms/step\n",
            "[[242.28291]]\n",
            "1/1 [==============================] - 0s 29ms/step\n",
            "[[242.86105]]\n",
            "1/1 [==============================] - 0s 39ms/step\n",
            "[[243.36981]]\n",
            "1/1 [==============================] - 0s 53ms/step\n",
            "[[243.8154]]\n",
            "1/1 [==============================] - 0s 38ms/step\n",
            "[[244.20609]]\n",
            "1/1 [==============================] - 0s 74ms/step\n",
            "[[244.5514]]\n",
            "1/1 [==============================] - 0s 85ms/step\n",
            "[[244.8613]]\n",
            "1/1 [==============================] - 0s 102ms/step\n",
            "[[245.14502]]\n",
            "1/1 [==============================] - 0s 107ms/step\n",
            "[[245.41092]]\n",
            "1/1 [==============================] - 0s 80ms/step\n",
            "[[245.66563]]\n",
            "1/1 [==============================] - 0s 67ms/step\n",
            "[[245.91408]]\n",
            "1/1 [==============================] - 0s 49ms/step\n",
            "[[246.15936]]\n",
            "1/1 [==============================] - 0s 81ms/step\n",
            "[[246.40288]]\n",
            "1/1 [==============================] - 0s 71ms/step\n",
            "[[246.64459]]\n",
            "1/1 [==============================] - 0s 103ms/step\n",
            "[[246.88321]]\n",
            "1/1 [==============================] - 0s 76ms/step\n",
            "[[247.11676]]\n",
            "1/1 [==============================] - 0s 93ms/step\n",
            "[[247.34296]]\n",
            "1/1 [==============================] - 0s 133ms/step\n",
            "[[247.55927]]\n",
            "1/1 [==============================] - 0s 77ms/step\n",
            "[[247.76357]]\n",
            "1/1 [==============================] - 0s 44ms/step\n",
            "[[247.95415]]\n",
            "1/1 [==============================] - 0s 31ms/step\n",
            "[[248.12985]]\n",
            "1/1 [==============================] - 0s 31ms/step\n",
            "[[248.29024]]\n",
            "1/1 [==============================] - 0s 36ms/step\n",
            "[[248.43547]]\n",
            "1/1 [==============================] - 0s 33ms/step\n",
            "[[248.56624]]\n",
            "1/1 [==============================] - 0s 29ms/step\n",
            "[[248.68382]]\n",
            "1/1 [==============================] - 0s 55ms/step\n",
            "[[248.78973]]\n",
            "1/1 [==============================] - 0s 31ms/step\n",
            "[[248.88556]]\n",
            "1/1 [==============================] - 0s 29ms/step\n",
            "[[248.97322]]\n",
            "1/1 [==============================] - 0s 32ms/step\n",
            "[[249.05421]]\n",
            "1/1 [==============================] - 0s 50ms/step\n",
            "[[249.13004]]\n",
            "1/1 [==============================] - 0s 30ms/step\n",
            "[[249.20192]]\n",
            "1/1 [==============================] - 0s 32ms/step\n",
            "[[249.27069]]\n",
            "1/1 [==============================] - 0s 33ms/step\n",
            "[[249.337]]\n",
            "1/1 [==============================] - 0s 44ms/step\n",
            "[[249.40114]]\n",
            "1/1 [==============================] - 0s 72ms/step\n",
            "[[249.46323]]\n",
            "1/1 [==============================] - 0s 50ms/step\n",
            "[[249.5232]]\n",
            "1/1 [==============================] - 0s 21ms/step\n",
            "[[249.58073]]\n",
            "1/1 [==============================] - 0s 23ms/step\n",
            "[[249.6357]]\n",
            "1/1 [==============================] - 0s 22ms/step\n",
            "[[249.68774]]\n",
            "1/1 [==============================] - 0s 24ms/step\n",
            "[[249.73659]]\n",
            "1/1 [==============================] - 0s 18ms/step\n",
            "[[249.78221]]\n",
            "1/1 [==============================] - 0s 23ms/step\n",
            "[[249.82434]]\n",
            "1/1 [==============================] - 0s 24ms/step\n",
            "[[249.86314]]\n",
            "1/1 [==============================] - 0s 20ms/step\n",
            "[[249.89867]]\n",
            "1/1 [==============================] - 0s 22ms/step\n",
            "[[249.93112]]\n",
            "1/1 [==============================] - 0s 19ms/step\n",
            "[[249.96071]]\n",
            "1/1 [==============================] - 0s 22ms/step\n",
            "[[249.98781]]\n",
            "1/1 [==============================] - 0s 20ms/step\n",
            "[[250.01273]]\n",
            "1/1 [==============================] - 0s 20ms/step\n",
            "[[250.03574]]\n",
            "1/1 [==============================] - 0s 21ms/step\n",
            "[[250.05713]]\n",
            "1/1 [==============================] - 0s 23ms/step\n",
            "[[250.07716]]\n",
            "1/1 [==============================] - 0s 22ms/step\n",
            "[[250.09608]]\n",
            "1/1 [==============================] - 0s 20ms/step\n",
            "[[250.11403]]\n",
            "1/1 [==============================] - 0s 21ms/step\n",
            "[[250.13113]]\n",
            "1/1 [==============================] - 0s 20ms/step\n",
            "[[250.14748]]\n",
            "1/1 [==============================] - 0s 20ms/step\n",
            "[[250.16309]]\n",
            "1/1 [==============================] - 0s 27ms/step\n",
            "[[250.17795]]\n",
            "1/1 [==============================] - 0s 21ms/step\n",
            "[[250.19206]]\n",
            "1/1 [==============================] - 0s 25ms/step\n",
            "[[250.20546]]\n",
            "1/1 [==============================] - 0s 20ms/step\n",
            "[[250.21805]]\n",
            "1/1 [==============================] - 0s 19ms/step\n",
            "[[250.22983]]\n",
            "1/1 [==============================] - 0s 21ms/step\n",
            "[[250.24084]]\n",
            "1/1 [==============================] - 0s 22ms/step\n",
            "[[250.25104]]\n",
            "1/1 [==============================] - 0s 24ms/step\n",
            "[[250.2605]]\n",
            "1/1 [==============================] - 0s 19ms/step\n",
            "[[250.26917]]\n",
            "1/1 [==============================] - 0s 20ms/step\n",
            "[[250.2772]]\n",
            "1/1 [==============================] - 0s 19ms/step\n",
            "[[250.28459]]\n",
            "1/1 [==============================] - 0s 28ms/step\n",
            "[[250.29141]]\n",
            "1/1 [==============================] - 0s 23ms/step\n",
            "[[250.29778]]\n",
            "[[29105.832]]\n"
          ]
        }
      ]
    },
    {
      "cell_type": "code",
      "source": [],
      "metadata": {
        "id": "eH_vHzwLv2tJ"
      },
      "execution_count": null,
      "outputs": []
    }
  ]
}